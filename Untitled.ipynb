{
 "cells": [
  {
   "cell_type": "code",
   "execution_count": 1,
   "id": "b5be821d",
   "metadata": {},
   "outputs": [],
   "source": [
    "from selenium import webdriver\n",
    "from webdriver_manager.chrome import ChromeDriverManager\n",
    "import csv\n",
    "from bs4 import BeautifulSoup\n",
    "import time"
   ]
  },
  {
   "cell_type": "markdown",
   "id": "c98e570b",
   "metadata": {},
   "source": [
    "# Start the web driver"
   ]
  },
  {
   "cell_type": "code",
   "execution_count": 2,
   "id": "171c00f3",
   "metadata": {},
   "outputs": [
    {
     "name": "stderr",
     "output_type": "stream",
     "text": [
      "[WDM] - Downloading: 100%|█████████████████| 8.04M/8.04M [00:01<00:00, 6.83MB/s]\n",
      "/var/folders/zv/k6n794j962xgx0l49vm_hn740000gn/T/ipykernel_4886/1800612133.py:2: DeprecationWarning: executable_path has been deprecated, please pass in a Service object\n",
      "  driver = webdriver.Chrome(ChromeDriverManager().install(), options=options)\n"
     ]
    }
   ],
   "source": [
    "options = webdriver.ChromeOptions()\n",
    "driver = webdriver.Chrome(ChromeDriverManager().install(), options=options)"
   ]
  },
  {
   "cell_type": "code",
   "execution_count": 7,
   "id": "dc9b3ade",
   "metadata": {},
   "outputs": [],
   "source": [
    "def get_url():\n",
    "    url = 'https://www.lamudi.co.id/jakarta/house/buy/?page={}'\n",
    "    return url"
   ]
  },
  {
   "cell_type": "code",
   "execution_count": 26,
   "id": "8eead72d",
   "metadata": {},
   "outputs": [],
   "source": [
    "def extract_record(item):\n",
    "    atag = item.a\n",
    "    \n",
    "    #Get the URL of each listings\n",
    "    url = atag.get('href')\n",
    "    \n",
    "    #Extract the price, building_area, and land_area for each listing, return '' if not found.\n",
    "    try:\n",
    "        price = item.get('data-price')\n",
    "        building_area = item.get('data-building_size')\n",
    "        land_area = item.get('data-land_size')\n",
    "    except AttributeError:\n",
    "        price = ''\n",
    "        building_area = ''\n",
    "        land_area = ''\n",
    "    \n",
    "    result = (url, price, building_area, land_area)\n",
    "    return result"
   ]
  },
  {
   "cell_type": "markdown",
   "id": "4cecea67",
   "metadata": {},
   "source": [
    "# Run Main Program Routine"
   ]
  },
  {
   "cell_type": "code",
   "execution_count": 29,
   "id": "9548049a",
   "metadata": {},
   "outputs": [],
   "source": [
    "def main():    \n",
    "    url = get_url()\n",
    "    records = []\n",
    "    driver.get(url)\n",
    "    \n",
    "    #Loop 101 pages of results and put the listings to records\n",
    "    for page in range(101):\n",
    "        driver.get(url.format(page))\n",
    "        soup = BeautifulSoup(driver.page_source, \"lxml\")\n",
    "        results = soup.find_all('div', {'class': 'ListingCell-AllInfo ListingUnit'})\n",
    "\n",
    "        for item in results:\n",
    "            record = extract_record(item)\n",
    "            if record:\n",
    "                records.append(record)\n",
    "    \n",
    "    #write the listings into a csv file\n",
    "    with open('results_houses.csv', 'w', newline = '', encoding='utf-8') as f:\n",
    "        writer = csv.writer(f)\n",
    "        writer.writerow(['Url', 'Price', 'Building Area', 'Land Area'])\n",
    "        writer.writerows(records)\n",
    "    \n",
    "    f.close() "
   ]
  },
  {
   "cell_type": "code",
   "execution_count": 30,
   "id": "35236a17",
   "metadata": {},
   "outputs": [],
   "source": [
    "main()"
   ]
  },
  {
   "cell_type": "code",
   "execution_count": null,
   "id": "e0199779",
   "metadata": {},
   "outputs": [],
   "source": []
  }
 ],
 "metadata": {
  "kernelspec": {
   "display_name": "Python 3 (ipykernel)",
   "language": "python",
   "name": "python3"
  },
  "language_info": {
   "codemirror_mode": {
    "name": "ipython",
    "version": 3
   },
   "file_extension": ".py",
   "mimetype": "text/x-python",
   "name": "python",
   "nbconvert_exporter": "python",
   "pygments_lexer": "ipython3",
   "version": "3.9.6"
  }
 },
 "nbformat": 4,
 "nbformat_minor": 5
}
